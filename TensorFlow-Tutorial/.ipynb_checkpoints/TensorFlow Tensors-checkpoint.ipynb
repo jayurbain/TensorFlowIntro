{
 "cells": [
  {
   "cell_type": "markdown",
   "metadata": {},
   "source": [
    "# TensorFlow Tensors\n",
    "\n",
    "Topics:\n",
    "\n",
    "* Tensors\n",
    "    - Plane Vectors\n",
    "    - Tensors"
   ]
  },
  {
   "cell_type": "markdown",
   "metadata": {},
   "source": [
    "<a id='tensors'></a>\n",
    "\n",
    "### Tensors\n",
    "\n",
    "#### Introducing Tensors\n",
    "Tensors are implemented in TensorFlow as multidimensional data arrays, but a little more introduction maybe helpful to completely grasp tensors and their use in machine learning.\n",
    "\n",
    "#### Plane Vectors\n",
    "Vectors are special types of matrices, which are rectangular arrays of numbers. Because vectors are ordered collections of numbers, they are often seen as column matrices: they have just one column and a certain number of rows. In other terms, you could also consider vectors as scalar magnitudes that have been given a direction.\n",
    "\n",
    "E.g., a scalar is “5 meters” or “60 m/sec”, while a vector is, “5 metres north” or “60 m/sec East”. The difference is that the vector has a direction. The length of a mathematical vector is a pure number: it is absolute. The direction, on the other hand, is relative: it is measured relative to some reference direction and has units of radians or degrees. You usually assume that the direction is positive and in counterclockwise rotation from the reference direction.\n",
    " \n",
    "![Plane Vector](content_plane_vector.png)\n"
   ]
  },
  {
   "cell_type": "markdown",
   "metadata": {},
   "source": [
    "A scalar can be considered as a 0-dimensional tensor, a vector as a 1-dimensional tensor, a traditional matrix as a 2-d tensor, etc.\n",
    "\n",
    "A 2x1 vector means that the vector belongs to the set of real numbers that come paired two at a time (i.e., two-space). In such cases, you can represent vectors on the coordinate (x, y) plane with arrows.\n",
    "\n",
    "Working from this coordinate plane in a standard position where vectors have their endpoint at the origin (0,0), you can derive the x coordinate by looking at the first row of the vector, while you’ll find the y coordinate in the second row. This standard position doesn’t always need to be maintained: vectors can move parallel to themselves in the plane without experiencing changes. Similarly, for vectors that are of size 3x1, you talk about the three-space. You can represent the vector as a three-dimensional figure with arrows pointing to positions in the vectors pace: they are drawn on the standard x, y and z axes.\n",
    "\n",
    "It’s nice to have these vectors and to represent them on the coordinate plane, but in essence, you have these vectors so that you can perform operations on them and one thing that can help you in doing this is by expressing your vectors as bases or unit vectors.\n",
    "\n",
    "Unit vectors are vectors with a magnitude of one. The unit vector is represented by a lowercase letter with a circumflex, or “hat”. Unit vectors come in convenient if you want to express a 2-D or 3-D vector as a sum of two or three orthogonal components, such as the x− and y−axes, or the z−axis.\n",
    "\n",
    "When you are talking about expressing one vector, for example, as sums of components, you’ll see that you’re talking about component vectors, which are two or more vectors whose sum is that given vector.\n",
    "\n",
    "To summarize, for a vector you need only one index, because there's only one directional indicator (i.e., one basis vector) per component. Makes vectors tensors of rank 1. One index, one basis vector per component.\n",
    "\n",
    "Scalars have no directional indicators, so they are considered tensors of rank 0.\n",
    "\n",
    "Matrices have two directional indicators per component. Makes them tensors of rank 2.\n",
    "\n",
    "What makes tensors so special is the combination of components and basis vectors: basis vectors transform one way between reference frames and the components transform in just such a way as to keep the combination between components and basis vectors the same.\n",
    "\n",
    "[Dan Fleisch, \"What is a Tensor\"](https://www.youtube.com/watch?v=f5liqUk0ZTw)\n",
    "\n",
    "![Rank 3 Tensor](3RTensor.png)"
   ]
  },
  {
   "cell_type": "code",
   "execution_count": 4,
   "metadata": {},
   "outputs": [
    {
     "name": "stdout",
     "output_type": "stream",
     "text": [
      "[ 5 12 21 32]\n"
     ]
    }
   ],
   "source": [
    "# Import `tensorflow`\n",
    "import tensorflow as tf\n",
    "\n",
    "# Initialize two constants\n",
    "x1 = tf.constant([1,2,3,4])\n",
    "x2 = tf.constant([5,6,7,8])\n",
    "\n",
    "# Multiply\n",
    "result = tf.multiply(x1, x2)\n",
    "\n",
    "# Initialize Session and run `result`\n",
    "with tf.Session() as sess:\n",
    "    output = sess.run(result)\n",
    "    print(output)"
   ]
  },
  {
   "cell_type": "code",
   "execution_count": 5,
   "metadata": {
    "collapsed": true
   },
   "outputs": [],
   "source": [
    "sess.close()"
   ]
  },
  {
   "cell_type": "code",
   "execution_count": null,
   "metadata": {
    "collapsed": true
   },
   "outputs": [],
   "source": []
  }
 ],
 "metadata": {
  "kernelspec": {
   "display_name": "Python [conda env:py3.5tf1.0]",
   "language": "python",
   "name": "conda-env-py3.5tf1.0-py"
  },
  "language_info": {
   "codemirror_mode": {
    "name": "ipython",
    "version": 3
   },
   "file_extension": ".py",
   "mimetype": "text/x-python",
   "name": "python",
   "nbconvert_exporter": "python",
   "pygments_lexer": "ipython3",
   "version": "3.5.3"
  }
 },
 "nbformat": 4,
 "nbformat_minor": 2
}
